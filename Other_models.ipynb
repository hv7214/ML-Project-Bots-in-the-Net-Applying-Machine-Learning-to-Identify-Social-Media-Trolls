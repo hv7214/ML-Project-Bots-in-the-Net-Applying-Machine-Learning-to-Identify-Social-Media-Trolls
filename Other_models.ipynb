{
 "metadata": {
  "language_info": {
   "codemirror_mode": {
    "name": "ipython",
    "version": 3
   },
   "file_extension": ".py",
   "mimetype": "text/x-python",
   "name": "python",
   "nbconvert_exporter": "python",
   "pygments_lexer": "ipython3",
   "version": "3.6.9"
  },
  "orig_nbformat": 2,
  "kernelspec": {
   "name": "pythonjvsc74a57bd07bf5ba559c6092108d1c79914ad4f810e25cf03a64012019e402d699b8cb2028",
   "display_name": "Python 3.6.9 64-bit ('env')"
  },
  "metadata": {
   "interpreter": {
    "hash": "7bf5ba559c6092108d1c79914ad4f810e25cf03a64012019e402d699b8cb2028"
   }
  }
 },
 "nbformat": 4,
 "nbformat_minor": 2,
 "cells": [
  {
   "cell_type": "code",
   "execution_count": 1,
   "metadata": {},
   "outputs": [],
   "source": [
    "from sklearn import model_selection, preprocessing, linear_model, naive_bayes, metrics, svm\n",
    "from sklearn.model_selection import GridSearchCV\n",
    "from sklearn.feature_extraction.text import TfidfVectorizer, CountVectorizer\n",
    "from sklearn.feature_extraction import text as text2\n",
    "from sklearn import decomposition, ensemble\n",
    "\n",
    "import pandas, numpy as np, textblob, string\n",
    "from sklearn.utils import shuffle\n",
    "import operator as op"
   ]
  },
  {
   "cell_type": "code",
   "execution_count": 2,
   "metadata": {},
   "outputs": [],
   "source": [
    "def train_model(classifier, feature_vector_train, label, feature_vector_test, is_neural_net=False, should_do_common=False):\n",
    "\t# fit the training dataset on the classifier\n",
    "\tclassifier.fit(feature_vector_train, label)\n",
    "\t\n",
    "\ttrain_preds = classifier.predict(feature_vector_train)\n",
    "\ttest_preds = classifier.predict(feature_vector_test)\n",
    "\n",
    "\t# stop_words = text2.ENGLISH_STOP_WORDS.union([\"http\", \"https\", \"amp\", \"amb\"])\n",
    "\t\n",
    "\tif is_neural_net:\n",
    "\t\ttest_preds = test_preds.argmax(axis=-1)\n",
    "\n",
    "\tif should_do_common:\n",
    "\t    feature_names = count_vect.get_feature_names()\n",
    "\t    diff = classifier.feature_log_prob_[1,:] - np.max(classifier.feature_log_prob_[0:])\n",
    "\n",
    "\t    name_diff = {}\n",
    "\t    for i in range(len(feature_names)):\n",
    "\t       name_diff[feature_names[i]] = diff[i]\n",
    "\n",
    "\t       names_diff_sorted = sorted(name_diff.items(), key = op.itemgetter(1), reverse = True)\n",
    "\t    c = 0\n",
    "\t    i = 0\n",
    "\t    while c < 50:\n",
    "\t       if names_diff_sorted[i][0] in stop_words or len(names_diff_sorted[i][0]) <= 2:\n",
    "\t       \t i += 1\n",
    "\t       \t continue\n",
    "\t       print(names_diff_sorted[i])\n",
    "\t       c += 1\n",
    "\t       i += 1\n",
    "\t\n",
    "\ttrain_acc = metrics.accuracy_score(train_preds, train_y)\n",
    "\ttest_acc = metrics.accuracy_score(test_preds, test_y)\n",
    "\tcm = metrics.confusion_matrix(test_y, test_preds)\n",
    "\tprint('Train Accuracy: ', train_acc)\n",
    "\tprint('Test Accuracy: ', test_acc)\n",
    "\tprint('Confusion matrix: ', cm)\n",
    "\treturn (test_acc, cm)\n",
    "    "
   ]
  },
  {
   "cell_type": "code",
   "execution_count": 3,
   "metadata": {},
   "outputs": [
    {
     "output_type": "stream",
     "name": "stdout",
     "text": [
      "Total number of datapoints:  12514\nPositive labels:  4541\nNegative labels:  7973\n"
     ]
    }
   ],
   "source": [
    "# load positive labels\n",
    "pos = open('Dataset/Positive_tweets(10000).csv').read()\n",
    "npos = 0\n",
    "labels, texts = [], []\n",
    "for i, line in enumerate(pos.split(\"\\n\")):\n",
    "    content = line.split(',')\n",
    "    if len(content) < 4:\n",
    "    \tcontinue;\n",
    "    if content[4] != \"English\":\n",
    "    \tcontinue;\n",
    "    labels.append(1)\n",
    "    texts.append(content[2])\n",
    "    npos += 1\n",
    "\n",
    "# load negative labels (random tweets)\n",
    "neg = open('Dataset/Negative_tweets(10000).txt').read()\n",
    "nneg = 0\n",
    "for i, line in enumerate(neg.split(\"\\n\")):\n",
    "    labels.append(0)\n",
    "    texts.append(line)\n",
    "    nneg += 1\n",
    "\n",
    "texts, labels = shuffle(texts, labels)\n",
    "\n",
    "print('Total number of datapoints: ', len(labels))\n",
    "print('Positive labels: ', npos)\n",
    "print('Negative labels: ', nneg)"
   ]
  },
  {
   "cell_type": "code",
   "execution_count": 10,
   "metadata": {},
   "outputs": [
    {
     "output_type": "stream",
     "name": "stdout",
     "text": [
      "Size of training set:  10011\nSize of Test set: 2503\n"
     ]
    }
   ],
   "source": [
    "trainDF = pandas.DataFrame()\n",
    "trainDF['text'] = texts\n",
    "trainDF['label'] = labels\n",
    "\n",
    "train_x, test_x, train_y, test_y = model_selection.train_test_split(trainDF['text'], trainDF['label'], train_size=0.8,random_state=42)\n",
    "\n",
    "print('Size of training set: ', len(train_x))\n",
    "print('Size of Test set:', len(test_x))\n",
    "\n",
    "encoder = preprocessing.LabelEncoder()\n",
    "train_y = encoder.fit_transform(train_y)\n",
    "test_y = encoder.fit_transform(test_y)\n",
    "\n",
    "binary_count_vect = CountVectorizer(analyzer='word', token_pattern=r'\\w{1,}', binary=True)\n",
    "binary_count_vect.fit(trainDF['text'])\n",
    "\n",
    "count_vect = CountVectorizer(analyzer='word', token_pattern=r'\\w{1,}')\n",
    "count_vect.fit(trainDF['text'])\n",
    "\n",
    "binary_xtrain_count = binary_count_vect.transform(train_x)\n",
    "binary_xtest_count = binary_count_vect.transform(test_x)\n",
    "\n",
    "xtrain_count =  count_vect.transform(train_x)\n",
    "xtest_count =  count_vect.transform(test_x)"
   ]
  },
  {
   "cell_type": "code",
   "execution_count": 11,
   "metadata": {},
   "outputs": [],
   "source": [
    "# word level tf-idf\n",
    "tfidf_vect = TfidfVectorizer(analyzer='word', token_pattern=r'\\w{1,}', max_features=5000)\n",
    "tfidf_vect.fit(trainDF['text'])\n",
    "xtrain_tfidf =  tfidf_vect.transform(train_x)\n",
    "xtest_tfidf =  tfidf_vect.transform(test_x)"
   ]
  },
  {
   "cell_type": "code",
   "execution_count": 12,
   "metadata": {},
   "outputs": [],
   "source": [
    "# ngram level tf-idf \n",
    "tfidf_vect_ngram = TfidfVectorizer(analyzer='word', token_pattern=r'\\w{1,}', ngram_range=(2,3), max_features=5000)\n",
    "tfidf_vect_ngram.fit(trainDF['text'])\n",
    "xtrain_tfidf_ngram =  tfidf_vect_ngram.transform(train_x)\n",
    "xtest_tfidf_ngram =  tfidf_vect_ngram.transform(test_x)"
   ]
  },
  {
   "cell_type": "code",
   "execution_count": 13,
   "metadata": {},
   "outputs": [],
   "source": [
    "# characters level tf-idf\n",
    "tfidf_vect_ngram_chars = TfidfVectorizer(analyzer='char', token_pattern=r'\\w{1,}', ngram_range=(2,3), max_features=5000)\n",
    "tfidf_vect_ngram_chars.fit(trainDF['text'])\n",
    "xtrain_tfidf_ngram_chars =  tfidf_vect_ngram_chars.transform(train_x) \n",
    "xtest_tfidf_ngram_chars =  tfidf_vect_ngram_chars.transform(test_x)"
   ]
  },
  {
   "cell_type": "code",
   "execution_count": 16,
   "metadata": {},
   "outputs": [
    {
     "output_type": "stream",
     "name": "stdout",
     "text": [
      "NB, Binary Count Vectors: \nTrain Accuracy:  0.9770252722005793\nTest Accuracy:  0.9460647223332002\nConfusion matrix:  [[1561   36]\n [  99  807]]\nNB, Count Vectors: \nTrain Accuracy:  0.9785236240135851\nTest Accuracy:  0.9468637634838194\nConfusion matrix:  [[1560   37]\n [  96  810]]\nNB, WordLevel TF-IDF: \nTrain Accuracy:  0.9517530716212167\nTest Accuracy:  0.9328805433479824\nConfusion matrix:  [[1565   32]\n [ 136  770]]\nNB, N-Gram Vectors: \nTrain Accuracy:  0.8871241634202377\nTest Accuracy:  0.8589692369157012\nConfusion matrix:  [[1514   83]\n [ 270  636]]\nNB, CharLevel Vectors: \nTrain Accuracy:  0.9375686744580961\nTest Accuracy:  0.9304834198961246\nConfusion matrix:  [[1578   19]\n [ 155  751]]\n"
     ]
    }
   ],
   "source": [
    "# Naive Bayes on Count Vectors\n",
    "print(\"NB, Binary Count Vectors: \")\n",
    "accuracy = train_model(naive_bayes.MultinomialNB(), binary_xtrain_count, train_y, binary_xtest_count)\n",
    "\n",
    "# Naive Bayes on Count Vectors\n",
    "print(\"NB, Count Vectors: \")\n",
    "accuracy = train_model(naive_bayes.MultinomialNB(), xtrain_count, train_y, xtest_count)\n",
    "\n",
    "# Naive Bayes on Word Level TF IDF Vectors\n",
    "print(\"NB, WordLevel TF-IDF: \")\n",
    "accuracy = train_model(naive_bayes.MultinomialNB(), xtrain_tfidf, train_y, xtest_tfidf)\n",
    "\n",
    "# Naive Bayes on Ngram Level TF IDF Vectors\n",
    "print(\"NB, N-Gram Vectors: \")\n",
    "accuracy = train_model(naive_bayes.MultinomialNB(), xtrain_tfidf_ngram, train_y, xtest_tfidf_ngram)\n",
    "\n",
    "# Naive Bayes on Character Level TF IDF Vectors\n",
    "print(\"NB, CharLevel Vectors: \")\n",
    "accuracy = train_model(naive_bayes.MultinomialNB(), xtrain_tfidf_ngram_chars, train_y, xtest_tfidf_ngram_chars)"
   ]
  },
  {
   "cell_type": "code",
   "execution_count": 15,
   "metadata": {},
   "outputs": [
    {
     "output_type": "stream",
     "name": "stdout",
     "text": [
      "LR, Binary Count Vectors: \n",
      "Train Accuracy:  0.991309559484567\n",
      "Test Accuracy:  0.9428685577307231\n",
      "Confusion matrix:  [[1557   40]\n",
      " [ 103  803]]\n",
      "LR, Count Vectors: \n",
      "/home/kps/Desktop/sem6/ML-Project-Bots-in-the-Net-Applying-Machine-Learning-to-Identify-Social-Media-Trolls/env/lib/python3.6/site-packages/sklearn/linear_model/logistic.py:433: FutureWarning: Default solver will be changed to 'lbfgs' in 0.22. Specify a solver to silence this warning.\n",
      "  FutureWarning)\n",
      "Train Accuracy:  0.9916092298471681\n",
      "Test Accuracy:  0.9424690371554135\n",
      "Confusion matrix:  [[1555   42]\n",
      " [ 102  804]]\n",
      "LR, WordLevel TF-IDF: \n",
      "Train Accuracy:  0.9652382379382679\n",
      "Test Accuracy:  0.9356771873751498\n",
      "Confusion matrix:  [[1558   39]\n",
      " [ 122  784]]\n",
      "LR, N-Gram Vectors: \n",
      "Train Accuracy:  0.8872240535411048\n",
      "Test Accuracy:  0.8497802636835797\n",
      "Confusion matrix:  [[1564   33]\n",
      " [ 343  563]]\n",
      "LR, CharLevel Vectors: \n",
      "Train Accuracy:  0.9741284586954351\n",
      "Test Accuracy:  0.9596484218937276\n",
      "Confusion matrix:  [[1578   19]\n",
      " [  82  824]]\n"
     ]
    }
   ],
   "source": [
    "# LR on Count Vectors\n",
    "print(\"LR, Binary Count Vectors: \")\n",
    "accuracy = train_model(linear_model.LogisticRegression(), binary_xtrain_count, train_y, binary_xtest_count)\n",
    "\n",
    "# Linear Classifier on Count Vectors\n",
    "print(\"LR, Count Vectors: \")\n",
    "accuracy = train_model(linear_model.LogisticRegression(), xtrain_count, train_y, xtest_count)\n",
    "\n",
    "# Linear Classifier on Word Level TF IDF Vectors\n",
    "print(\"LR, WordLevel TF-IDF: \")\n",
    "accuracy = train_model(linear_model.LogisticRegression(), xtrain_tfidf, train_y, xtest_tfidf)\n",
    "\n",
    "# Linear Classifier on Ngram Level TF IDF Vectors\n",
    "print(\"LR, N-Gram Vectors: \")\n",
    "accuracy = train_model(linear_model.LogisticRegression(), xtrain_tfidf_ngram, train_y, xtest_tfidf_ngram)\n",
    "\n",
    "# Linear Classifier on Character Level TF IDF Vectors\n",
    "print(\"LR, CharLevel Vectors: \")\n",
    "accuracy = train_model(linear_model.LogisticRegression(), xtrain_tfidf_ngram_chars, train_y, xtest_tfidf_ngram_chars)"
   ]
  },
  {
   "cell_type": "code",
   "execution_count": 17,
   "metadata": {},
   "outputs": [
    {
     "output_type": "stream",
     "name": "stdout",
     "text": [
      "SVM, Binary Count Vectors: \n",
      "Train Accuracy:  1.0\n",
      "Test Accuracy:  0.9452656811825809\n",
      "Confusion matrix:  [[1549   48]\n",
      " [  89  817]]\n",
      "SVM, Count Vectors: \n",
      "Train Accuracy:  1.0\n",
      "Test Accuracy:  0.9424690371554135\n",
      "Confusion matrix:  [[1556   41]\n",
      " [ 103  803]]\n",
      "SVM, WordLevel TF-IDF: \n",
      "Train Accuracy:  0.9863150534412146\n",
      "Test Accuracy:  0.9512584898122254\n",
      "Confusion matrix:  [[1534   63]\n",
      " [  59  847]]\n",
      "SVM, N-Gram Vectors: \n",
      "Train Accuracy:  0.9163919688342823\n",
      "Test Accuracy:  0.8609668397922493\n",
      "Confusion matrix:  [[1507   90]\n",
      " [ 258  648]]\n",
      "SVM, CharLevel Vectors: \n",
      "Train Accuracy:  0.9952052741983818\n",
      "Test Accuracy:  0.9684378745505393\n",
      "Confusion matrix:  [[1564   33]\n",
      " [  46  860]]\n"
     ]
    }
   ],
   "source": [
    "def svm_tune(x, y):\n",
    "\t\tCs = [0.001, 0.01, 0.1, 1, 10]\n",
    "\t\tgammas = [0.001, 0.01, 0.1, 1]\n",
    "\t\tgrid = {'C': Cs, 'gamma': gammas}\n",
    "\t\tsearch = GridSearchCV(svm.SVC(kernel='rbf'), grid)\n",
    "\t\tsearch.fit(x, y)\n",
    "\t\tsearch.best_params_\n",
    "\t\treturn search.best_params_\n",
    "\n",
    "# SVM on Bin Count Vectors\n",
    "print(\"SVM, Binary Count Vectors: \")\n",
    "accuracy = train_model(svm.SVC(kernel='rbf', C=10, gamma=0.1), binary_xtrain_count, train_y, binary_xtest_count)\n",
    "\n",
    "# SVM on Count Vectors\n",
    "print(\"SVM, Count Vectors: \")\n",
    "accuracy = train_model(svm.SVC(kernel='rbf', C=10, gamma=0.1), xtrain_count, train_y, xtest_count)\n",
    "\n",
    "# SVM on Word Level TF IDF Vectors\n",
    "print(\"SVM, WordLevel TF-IDF: \")\n",
    "accuracy = train_model(svm.SVC(kernel='rbf', C=10, gamma=0.1), xtrain_tfidf, train_y, xtest_tfidf)\n",
    "\n",
    "# SVM on Ngram Level TF IDF Vectors\n",
    "print(\"SVM, N-Gram Vectors: \")\n",
    "accuracy = train_model(svm.SVC(kernel='rbf', C=10, gamma=0.1), xtrain_tfidf_ngram, train_y, xtest_tfidf_ngram)\n",
    "\n",
    "# SVM on Character Level TF IDF Vectors\n",
    "print(\"SVM, CharLevel Vectors: \")\n",
    "accuracy = train_model(svm.SVC(kernel='rbf', C=10, gamma=0.1), xtrain_tfidf_ngram_chars, train_y, xtest_tfidf_ngram_chars)"
   ]
  },
  {
   "cell_type": "code",
   "execution_count": 19,
   "metadata": {},
   "outputs": [
    {
     "output_type": "stream",
     "name": "stdout",
     "text": [
      "Linear SVM, Binary Count Vectors: \n",
      "Train Accuracy:  0.9997003296373989\n",
      "Test Accuracy:  0.9332800639232921\n",
      "Confusion matrix:  [[1549   48]\n",
      " [ 119  787]]\n",
      "Linear SVM, Count Vectors: \n",
      "Train Accuracy:  0.9997003296373989\n",
      "Test Accuracy:  0.9344786256492209\n",
      "Confusion matrix:  [[1549   48]\n",
      " [ 116  790]]\n",
      "Linear SVM, WordLevel TF-IDF: \n",
      "Train Accuracy:  0.9882129657376886\n",
      "Test Accuracy:  0.9452656811825809\n",
      "Confusion matrix:  [[1557   40]\n",
      " [  97  809]]\n",
      "Linear SVM, N-Gram Vectors: \n",
      "Train Accuracy:  0.9208870242732994\n",
      "Test Accuracy:  0.8581701957650819\n",
      "Confusion matrix:  [[1511   86]\n",
      " [ 269  637]]\n",
      "Linear SVM, CharLevel Vectors: \n",
      "Train Accuracy:  0.9968035161322545\n",
      "Test Accuracy:  0.9700359568517779\n",
      "Confusion matrix:  [[1570   27]\n",
      " [  48  858]]\n"
     ]
    }
   ],
   "source": [
    "print(\"Linear SVM, Binary Count Vectors: \")\n",
    "accuracy = train_model(svm.LinearSVC(), binary_xtrain_count, train_y, binary_xtest_count)\n",
    "\n",
    "# SVM on Count Vectors\n",
    "print(\"Linear SVM, Count Vectors: \")\n",
    "accuracy = train_model(svm.LinearSVC(), xtrain_count, train_y, xtest_count)\n",
    "\n",
    "# SVM on Word Level TF IDF Vectors\n",
    "print(\"Linear SVM, WordLevel TF-IDF: \")\n",
    "accuracy = train_model(svm.LinearSVC(), xtrain_tfidf, train_y, xtest_tfidf)\n",
    "\n",
    "# SVM on Ngram Level TF IDF Vectors\n",
    "print(\"Linear SVM, N-Gram Vectors: \")\n",
    "accuracy = train_model(svm.LinearSVC(), xtrain_tfidf_ngram, train_y, xtest_tfidf_ngram)\n",
    "\n",
    "# SVM on Character Level TF IDF Vectors\n",
    "print(\"Linear SVM, CharLevel Vectors: \")\n",
    "accuracy = train_model(svm.LinearSVC(), xtrain_tfidf_ngram_chars, train_y, xtest_tfidf_ngram_chars)"
   ]
  },
  {
   "cell_type": "code",
   "execution_count": 28,
   "metadata": {},
   "outputs": [
    {
     "output_type": "stream",
     "name": "stdout",
     "text": [
      "RF, Binary Count Vectors: \n",
      "Train Accuracy:  1.0\n",
      "Test Accuracy:  0.9368757491010787\n",
      "Confusion matrix:  [[1575   22]\n",
      " [ 136  770]]\n",
      "RF, Count Vectors: \n",
      "Train Accuracy:  1.0\n",
      "Test Accuracy:  0.9328805433479824\n",
      "Confusion matrix:  [[1570   27]\n",
      " [ 141  765]]\n",
      "RF, WordLevel TF-IDF: \n",
      "Train Accuracy:  0.9953051643192489\n",
      "Test Accuracy:  0.9412704754294846\n",
      "Confusion matrix:  [[1545   52]\n",
      " [  95  811]]\n",
      "RF, N-Gram Vectors: \n",
      "Train Accuracy:  0.937368894216362\n",
      "Test Accuracy:  0.8345984818218138\n",
      "Confusion matrix:  [[1535   62]\n",
      " [ 352  554]]\n",
      "RF, CharLevel Vectors: \n",
      "Train Accuracy:  0.9999001098791329\n",
      "Test Accuracy:  0.968837395125849\n",
      "Confusion matrix:  [[1545   52]\n",
      " [  26  880]]\n"
     ]
    }
   ],
   "source": [
    "print(\"RF, Binary Count Vectors: \")\n",
    "accuracy = train_model(ensemble.RandomForestClassifier(n_estimators=100), binary_xtrain_count, train_y, binary_xtest_count)\n",
    "\n",
    "# RF on Count Vectors\n",
    "print(\"RF, Count Vectors: \")\n",
    "accuracy = train_model(ensemble.RandomForestClassifier(n_estimators=100), xtrain_count, train_y, xtest_count)\n",
    "\n",
    "# RF on Word Level TF IDF Vectors\n",
    "print(\"RF, WordLevel TF-IDF: \")\n",
    "accuracy = train_model(ensemble.RandomForestClassifier(n_estimators=100), xtrain_tfidf, train_y, xtest_tfidf)\n",
    "\n",
    "# RF on Ngram Level TF IDF Vectors\n",
    "print(\"RF, N-Gram Vectors: \")\n",
    "accuracy = train_model(ensemble.RandomForestClassifier(n_estimators=100), xtrain_tfidf_ngram, train_y, xtest_tfidf_ngram)\n",
    "\n",
    "# RF on Character Level TF IDF Vectors\n",
    "print(\"RF, CharLevel Vectors: \")\n",
    "accuracy = train_model(ensemble.RandomForestClassifier(n_estimators=100), xtrain_tfidf_ngram_chars, train_y, xtest_tfidf_ngram_chars)"
   ]
  },
  {
   "cell_type": "code",
   "execution_count": 29,
   "metadata": {},
   "outputs": [
    {
     "output_type": "stream",
     "name": "stdout",
     "text": [
      "Train Accuracy:  0.892018779342723\n",
      "Test Accuracy:  0.8905313623651618\n",
      "Confusion matrix:  [[1360  237]\n",
      " [  37  869]]\n",
      "RF, Count Vectors: \n",
      "Train Accuracy:  0.8937169113974628\n",
      "Test Accuracy:  0.8913304035157811\n",
      "Confusion matrix:  [[1362  235]\n",
      " [  37  869]]\n",
      "RF, WordLevel TF-IDF: \n",
      "Train Accuracy:  0.9123963639996004\n",
      "Test Accuracy:  0.906512185377547\n",
      "Confusion matrix:  [[1399  198]\n",
      " [  36  870]]\n",
      "RF, N-Gram Vectors: \n",
      "Train Accuracy:  0.7959244830686245\n",
      "Test Accuracy:  0.7866560127846585\n",
      "Confusion matrix:  [[1590    7]\n",
      " [ 527  379]]\n",
      "RF, CharLevel Vectors: \n",
      "Train Accuracy:  0.9753271401458395\n",
      "Test Accuracy:  0.9704354774270875\n",
      "Confusion matrix:  [[1552   45]\n",
      " [  29  877]]\n"
     ]
    }
   ],
   "source": [
    "print(\"RF, Binary Count Vectors: \")\n",
    "accuracy = train_model(ensemble.GradientBoostingClassifier(n_estimators=100), binary_xtrain_count, train_y, binary_xtest_count)\n",
    "\n",
    "# RF on Count Vectors\n",
    "print(\"RF, Count Vectors: \")\n",
    "accuracy = train_model(ensemble.GradientBoostingClassifier(n_estimators=100), xtrain_count, train_y, xtest_count)\n",
    "\n",
    "# RF on Word Level TF IDF Vectors\n",
    "print(\"RF, WordLevel TF-IDF: \")\n",
    "accuracy = train_model(ensemble.GradientBoostingClassifier(n_estimators=100), xtrain_tfidf, train_y, xtest_tfidf)\n",
    "\n",
    "# RF on Ngram Level TF IDF Vectors\n",
    "print(\"RF, N-Gram Vectors: \")\n",
    "accuracy = train_model(ensemble.GradientBoostingClassifier(n_estimators=100), xtrain_tfidf_ngram, train_y, xtest_tfidf_ngram)\n",
    "\n",
    "# RF on Character Level TF IDF Vectors\n",
    "print(\"RF, CharLevel Vectors: \")\n",
    "accuracy = train_model(ensemble.GradientBoostingClassifier(n_estimators=100), xtrain_tfidf_ngram_chars, train_y, xtest_tfidf_ngram_chars)"
   ]
  },
  {
   "cell_type": "code",
   "execution_count": null,
   "metadata": {},
   "outputs": [],
   "source": []
  }
 ]
}