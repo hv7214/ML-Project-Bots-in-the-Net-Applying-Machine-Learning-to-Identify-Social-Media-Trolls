{
 "metadata": {
  "language_info": {
   "codemirror_mode": {
    "name": "ipython",
    "version": 3
   },
   "file_extension": ".py",
   "mimetype": "text/x-python",
   "name": "python",
   "nbconvert_exporter": "python",
   "pygments_lexer": "ipython3",
   "version": "3.6.9"
  },
  "orig_nbformat": 2,
  "kernelspec": {
   "name": "pythonjvsc74a57bd07bf5ba559c6092108d1c79914ad4f810e25cf03a64012019e402d699b8cb2028",
   "display_name": "Python 3.6.9  ('env': venv)"
  },
  "metadata": {
   "interpreter": {
    "hash": "7bf5ba559c6092108d1c79914ad4f810e25cf03a64012019e402d699b8cb2028"
   }
  }
 },
 "nbformat": 4,
 "nbformat_minor": 2,
 "cells": [
  {
   "cell_type": "code",
   "execution_count": 8,
   "metadata": {},
   "outputs": [],
   "source": [
    "from sklearn import model_selection, preprocessing, linear_model, naive_bayes, metrics, svm\n",
    "from sklearn.model_selection import GridSearchCV\n",
    "from sklearn.feature_extraction.text import TfidfVectorizer, CountVectorizer\n",
    "from sklearn.feature_extraction import text as text2\n",
    "from sklearn import decomposition, ensemble\n",
    "\n",
    "import pandas, numpy as np, textblob, string\n",
    "from sklearn.utils import shuffle\n",
    "import operator as op"
   ]
  },
  {
   "cell_type": "code",
   "execution_count": 9,
   "metadata": {},
   "outputs": [],
   "source": [
    "def train_model(classifier, feature_vector_train, label, feature_vector_test, is_neural_net=False, should_do_common=False):\n",
    "\t# fit the training dataset on the classifier\n",
    "\tclassifier.fit(feature_vector_train, label)\n",
    "\t\n",
    "\ttrain_preds = classifier.predict(feature_vector_train)\n",
    "\ttest_preds = classifier.predict(feature_vector_test)\n",
    "\n",
    "\t# stop_words = text2.ENGLISH_STOP_WORDS.union([\"http\", \"https\", \"amp\", \"amb\"])\n",
    "\t\n",
    "\tif is_neural_net:\n",
    "\t\ttest_preds = test_preds.argmax(axis=-1)\n",
    "\n",
    "\tif should_do_common:\n",
    "\t    feature_names = count_vect.get_feature_names()\n",
    "\t    diff = classifier.feature_log_prob_[1,:] - np.max(classifier.feature_log_prob_[0:])\n",
    "\n",
    "\t    name_diff = {}\n",
    "\t    for i in range(len(feature_names)):\n",
    "\t       name_diff[feature_names[i]] = diff[i]\n",
    "\n",
    "\t       names_diff_sorted = sorted(name_diff.items(), key = op.itemgetter(1), reverse = True)\n",
    "\t    c = 0\n",
    "\t    i = 0\n",
    "\t    while c < 50:\n",
    "\t       if names_diff_sorted[i][0] in stop_words or len(names_diff_sorted[i][0]) <= 2:\n",
    "\t       \t i += 1\n",
    "\t       \t continue\n",
    "\t       print(names_diff_sorted[i])\n",
    "\t       c += 1\n",
    "\t       i += 1\n",
    "\t\n",
    "\ttrain_acc = metrics.accuracy_score(train_preds, train_y)\n",
    "\ttest_acc = metrics.accuracy_score(test_preds, test_y)\n",
    "\tcm = metrics.confusion_matrix(test_y, test_preds)\n",
    "\tprint('Train Accuracy: ', train_acc)\n",
    "\tprint('Test Accuracy: ', test_acc)\n",
    "\tprint('Confusion matrix: ', cm)\n",
    "\treturn (test_acc, cm)\n",
    "    "
   ]
  },
  {
   "cell_type": "code",
   "execution_count": 10,
   "metadata": {},
   "outputs": [
    {
     "output_type": "stream",
     "name": "stdout",
     "text": [
      "Total number of datapoints:  11898\nPositive labels:  4541\nNegative labels:  7357\n"
     ]
    }
   ],
   "source": [
    "# load positive labels\n",
    "pos = open('Dataset/Positive_tweets(10000).csv').read()\n",
    "npos = 0\n",
    "labels, texts = [], []\n",
    "for i, line in enumerate(pos.split(\"\\n\")):\n",
    "    content = line.split(',')\n",
    "    if len(content) < 4:\n",
    "    \tcontinue;\n",
    "    if content[4] != \"English\":\n",
    "    \tcontinue;\n",
    "    labels.append(1)\n",
    "    texts.append(content[2])\n",
    "    npos += 1\n",
    "\n",
    "# load negative labels (random tweets)\n",
    "neg = open('Dataset/Negative_tweets(10000).txt').read()\n",
    "nneg = 0\n",
    "for i, line in enumerate(neg.split(\"\\n\")):\n",
    "    words = line.split(\" \")\n",
    "    newst = \"\"\n",
    "    for j in range(len(words)):\n",
    "        if(words[j].startswith(\"http\")):\n",
    "            break\n",
    "        newst = newst + \" \" + words[j]\n",
    "    newst = newst.strip()\n",
    "    if(newst == \"\"):\n",
    "        continue\n",
    "    \n",
    "    labels.append(0)\n",
    "    texts.append(newst)\n",
    "    nneg += 1\n",
    "\n",
    "texts, labels = shuffle(texts, labels)\n",
    "\n",
    "print('Total number of datapoints: ', len(labels))\n",
    "print('Positive labels: ', npos)\n",
    "print('Negative labels: ', nneg)"
   ]
  },
  {
   "cell_type": "code",
   "execution_count": 11,
   "metadata": {},
   "outputs": [
    {
     "output_type": "stream",
     "name": "stdout",
     "text": [
      "Size of training set:  9518\nSize of Test set: 2380\n"
     ]
    }
   ],
   "source": [
    "trainDF = pandas.DataFrame()\n",
    "trainDF['text'] = texts\n",
    "trainDF['label'] = labels\n",
    "\n",
    "train_x, test_x, train_y, test_y = model_selection.train_test_split(trainDF['text'], trainDF['label'], train_size=0.8,random_state=42)\n",
    "\n",
    "print('Size of training set: ', len(train_x))\n",
    "print('Size of Test set:', len(test_x))\n",
    "\n",
    "encoder = preprocessing.LabelEncoder()\n",
    "train_y = encoder.fit_transform(train_y)\n",
    "test_y = encoder.fit_transform(test_y)\n",
    "\n",
    "binary_count_vect = CountVectorizer(analyzer='word', token_pattern=r'\\w{1,}', binary=True)\n",
    "binary_count_vect.fit(trainDF['text'])\n",
    "\n",
    "count_vect = CountVectorizer(analyzer='word', token_pattern=r'\\w{1,}')\n",
    "count_vect.fit(trainDF['text'])\n",
    "\n",
    "binary_xtrain_count = binary_count_vect.transform(train_x)\n",
    "binary_xtest_count = binary_count_vect.transform(test_x)\n",
    "\n",
    "xtrain_count =  count_vect.transform(train_x)\n",
    "xtest_count =  count_vect.transform(test_x)"
   ]
  },
  {
   "cell_type": "code",
   "execution_count": 12,
   "metadata": {},
   "outputs": [],
   "source": [
    "# word level tf-idf\n",
    "tfidf_vect = TfidfVectorizer(analyzer='word', token_pattern=r'\\w{1,}', max_features=5000)\n",
    "tfidf_vect.fit(trainDF['text'])\n",
    "xtrain_tfidf =  tfidf_vect.transform(train_x)\n",
    "xtest_tfidf =  tfidf_vect.transform(test_x)"
   ]
  },
  {
   "cell_type": "code",
   "execution_count": 13,
   "metadata": {},
   "outputs": [],
   "source": [
    "# ngram level tf-idf \n",
    "tfidf_vect_ngram = TfidfVectorizer(analyzer='word', token_pattern=r'\\w{1,}', ngram_range=(2,3), max_features=5000)\n",
    "tfidf_vect_ngram.fit(trainDF['text'])\n",
    "xtrain_tfidf_ngram =  tfidf_vect_ngram.transform(train_x)\n",
    "xtest_tfidf_ngram =  tfidf_vect_ngram.transform(test_x)"
   ]
  },
  {
   "cell_type": "code",
   "execution_count": 14,
   "metadata": {},
   "outputs": [],
   "source": [
    "# characters level tf-idf\n",
    "tfidf_vect_ngram_chars = TfidfVectorizer(analyzer='char', token_pattern=r'\\w{1,}', ngram_range=(2,3), max_features=5000)\n",
    "tfidf_vect_ngram_chars.fit(trainDF['text'])\n",
    "xtrain_tfidf_ngram_chars =  tfidf_vect_ngram_chars.transform(train_x) \n",
    "xtest_tfidf_ngram_chars =  tfidf_vect_ngram_chars.transform(test_x)"
   ]
  },
  {
   "cell_type": "code",
   "execution_count": 15,
   "metadata": {},
   "outputs": [
    {
     "output_type": "stream",
     "name": "stdout",
     "text": [
      "NB, Binary Count Vectors: \nTrain Accuracy:  0.9825593612103383\nTest Accuracy:  0.9689075630252101\nConfusion matrix:  [[1450   28]\n [  46  856]]\nNB, Count Vectors: \nTrain Accuracy:  0.9816137844084892\nTest Accuracy:  0.9680672268907563\nConfusion matrix:  [[1450   28]\n [  48  854]]\nNB, WordLevel TF-IDF: \nTrain Accuracy:  0.9724732086572809\nTest Accuracy:  0.9626050420168067\nConfusion matrix:  [[1454   24]\n [  65  837]]\nNB, N-Gram Vectors: \nTrain Accuracy:  0.9271905862576172\nTest Accuracy:  0.9096638655462185\nConfusion matrix:  [[1415   63]\n [ 152  750]]\nNB, CharLevel Vectors: \nTrain Accuracy:  0.9619667997478462\nTest Accuracy:  0.9512605042016806\nConfusion matrix:  [[1445   33]\n [  83  819]]\n"
     ]
    }
   ],
   "source": [
    "# Naive Bayes on Count Vectors\n",
    "print(\"NB, Binary Count Vectors: \")\n",
    "accuracy = train_model(naive_bayes.MultinomialNB(), binary_xtrain_count, train_y, binary_xtest_count)\n",
    "\n",
    "# Naive Bayes on Count Vectors\n",
    "print(\"NB, Count Vectors: \")\n",
    "accuracy = train_model(naive_bayes.MultinomialNB(), xtrain_count, train_y, xtest_count)\n",
    "\n",
    "# Naive Bayes on Word Level TF IDF Vectors\n",
    "print(\"NB, WordLevel TF-IDF: \")\n",
    "accuracy = train_model(naive_bayes.MultinomialNB(), xtrain_tfidf, train_y, xtest_tfidf)\n",
    "\n",
    "# Naive Bayes on Ngram Level TF IDF Vectors\n",
    "print(\"NB, N-Gram Vectors: \")\n",
    "accuracy = train_model(naive_bayes.MultinomialNB(), xtrain_tfidf_ngram, train_y, xtest_tfidf_ngram)\n",
    "\n",
    "# Naive Bayes on Character Level TF IDF Vectors\n",
    "print(\"NB, CharLevel Vectors: \")\n",
    "accuracy = train_model(naive_bayes.MultinomialNB(), xtrain_tfidf_ngram_chars, train_y, xtest_tfidf_ngram_chars)"
   ]
  },
  {
   "cell_type": "code",
   "execution_count": 16,
   "metadata": {},
   "outputs": [
    {
     "output_type": "stream",
     "name": "stdout",
     "text": [
      "LR, Binary Count Vectors: \n",
      "Train Accuracy:  0.9947467955452827\n",
      "Test Accuracy:  0.9596638655462185\n",
      "Confusion matrix:  [[1440   38]\n",
      " [  58  844]]\n",
      "LR, Count Vectors: \n",
      "/home/kps/Desktop/sem6/ML-Project-Bots-in-the-Net-Applying-Machine-Learning-to-Identify-Social-Media-Trolls/env/lib/python3.6/site-packages/sklearn/linear_model/logistic.py:433: FutureWarning: Default solver will be changed to 'lbfgs' in 0.22. Specify a solver to silence this warning.\n",
      "  FutureWarning)\n",
      "Train Accuracy:  0.9949569237234713\n",
      "Test Accuracy:  0.957983193277311\n",
      "Confusion matrix:  [[1442   36]\n",
      " [  64  838]]\n",
      "LR, WordLevel TF-IDF: \n",
      "Train Accuracy:  0.9768859003992435\n",
      "Test Accuracy:  0.9571428571428572\n",
      "Confusion matrix:  [[1457   21]\n",
      " [  81  821]]\n",
      "LR, N-Gram Vectors: \n",
      "Train Accuracy:  0.9097499474679555\n",
      "Test Accuracy:  0.8899159663865546\n",
      "Confusion matrix:  [[1462   16]\n",
      " [ 246  656]]\n",
      "LR, CharLevel Vectors: \n",
      "Train Accuracy:  0.987287245219584\n",
      "Test Accuracy:  0.9819327731092437\n",
      "Confusion matrix:  [[1466   12]\n",
      " [  31  871]]\n"
     ]
    }
   ],
   "source": [
    "# LR on Count Vectors\n",
    "print(\"LR, Binary Count Vectors: \")\n",
    "accuracy = train_model(linear_model.LogisticRegression(), binary_xtrain_count, train_y, binary_xtest_count)\n",
    "\n",
    "# Linear Classifier on Count Vectors\n",
    "print(\"LR, Count Vectors: \")\n",
    "accuracy = train_model(linear_model.LogisticRegression(), xtrain_count, train_y, xtest_count)\n",
    "\n",
    "# Linear Classifier on Word Level TF IDF Vectors\n",
    "print(\"LR, WordLevel TF-IDF: \")\n",
    "accuracy = train_model(linear_model.LogisticRegression(), xtrain_tfidf, train_y, xtest_tfidf)\n",
    "\n",
    "# Linear Classifier on Ngram Level TF IDF Vectors\n",
    "print(\"LR, N-Gram Vectors: \")\n",
    "accuracy = train_model(linear_model.LogisticRegression(), xtrain_tfidf_ngram, train_y, xtest_tfidf_ngram)\n",
    "\n",
    "# Linear Classifier on Character Level TF IDF Vectors\n",
    "print(\"LR, CharLevel Vectors: \")\n",
    "accuracy = train_model(linear_model.LogisticRegression(), xtrain_tfidf_ngram_chars, train_y, xtest_tfidf_ngram_chars)"
   ]
  },
  {
   "cell_type": "code",
   "execution_count": 17,
   "metadata": {},
   "outputs": [
    {
     "output_type": "stream",
     "name": "stdout",
     "text": [
      "SVM, Binary Count Vectors: \n",
      "Train Accuracy:  1.0\n",
      "Test Accuracy:  0.9592436974789916\n",
      "Confusion matrix:  [[1443   35]\n",
      " [  62  840]]\n",
      "SVM, Count Vectors: \n",
      "Train Accuracy:  1.0\n",
      "Test Accuracy:  0.9558823529411765\n",
      "Confusion matrix:  [[1446   32]\n",
      " [  73  829]]\n",
      "SVM, WordLevel TF-IDF: \n",
      "Train Accuracy:  0.9940113469216222\n",
      "Test Accuracy:  0.9642857142857143\n",
      "Confusion matrix:  [[1438   40]\n",
      " [  45  857]]\n",
      "SVM, N-Gram Vectors: \n",
      "Train Accuracy:  0.9447362891363732\n",
      "Test Accuracy:  0.8970588235294118\n",
      "Confusion matrix:  [[1424   54]\n",
      " [ 191  711]]\n",
      "SVM, CharLevel Vectors: \n",
      "Train Accuracy:  0.9989493591090566\n",
      "Test Accuracy:  0.9865546218487395\n",
      "Confusion matrix:  [[1466   12]\n",
      " [  20  882]]\n"
     ]
    }
   ],
   "source": [
    "def svm_tune(x, y):\n",
    "\t\tCs = [0.001, 0.01, 0.1, 1, 10]\n",
    "\t\tgammas = [0.001, 0.01, 0.1, 1]\n",
    "\t\tgrid = {'C': Cs, 'gamma': gammas}\n",
    "\t\tsearch = GridSearchCV(svm.SVC(kernel='rbf'), grid)\n",
    "\t\tsearch.fit(x, y)\n",
    "\t\tsearch.best_params_\n",
    "\t\treturn search.best_params_\n",
    "\n",
    "# SVM on Bin Count Vectors\n",
    "print(\"SVM, Binary Count Vectors: \")\n",
    "accuracy = train_model(svm.SVC(kernel='rbf', C=10, gamma=0.1), binary_xtrain_count, train_y, binary_xtest_count)\n",
    "\n",
    "# SVM on Count Vectors\n",
    "print(\"SVM, Count Vectors: \")\n",
    "accuracy = train_model(svm.SVC(kernel='rbf', C=10, gamma=0.1), xtrain_count, train_y, xtest_count)\n",
    "\n",
    "# SVM on Word Level TF IDF Vectors\n",
    "print(\"SVM, WordLevel TF-IDF: \")\n",
    "accuracy = train_model(svm.SVC(kernel='rbf', C=10, gamma=0.1), xtrain_tfidf, train_y, xtest_tfidf)\n",
    "\n",
    "# SVM on Ngram Level TF IDF Vectors\n",
    "print(\"SVM, N-Gram Vectors: \")\n",
    "accuracy = train_model(svm.SVC(kernel='rbf', C=10, gamma=0.1), xtrain_tfidf_ngram, train_y, xtest_tfidf_ngram)\n",
    "\n",
    "# SVM on Character Level TF IDF Vectors\n",
    "print(\"SVM, CharLevel Vectors: \")\n",
    "accuracy = train_model(svm.SVC(kernel='rbf', C=10, gamma=0.1), xtrain_tfidf_ngram_chars, train_y, xtest_tfidf_ngram_chars)"
   ]
  },
  {
   "cell_type": "code",
   "execution_count": 18,
   "metadata": {},
   "outputs": [
    {
     "output_type": "stream",
     "name": "stdout",
     "text": [
      "Linear SVM, Binary Count Vectors: \n",
      "Train Accuracy:  0.9998949359109056\n",
      "Test Accuracy:  0.9584033613445379\n",
      "Confusion matrix:  [[1440   38]\n",
      " [  61  841]]\n",
      "Linear SVM, Count Vectors: \n",
      "Train Accuracy:  0.9997898718218113\n",
      "Test Accuracy:  0.9588235294117647\n",
      "Confusion matrix:  [[1443   35]\n",
      " [  63  839]]\n",
      "Linear SVM, WordLevel TF-IDF: \n",
      "Train Accuracy:  0.9956923723471317\n",
      "Test Accuracy:  0.9647058823529412\n",
      "Confusion matrix:  [[1441   37]\n",
      " [  47  855]]\n",
      "Linear SVM, N-Gram Vectors: \n",
      "Train Accuracy:  0.9485185963437697\n",
      "Test Accuracy:  0.8991596638655462\n",
      "Confusion matrix:  [[1423   55]\n",
      " [ 185  717]]\n",
      "Linear SVM, CharLevel Vectors: \n",
      "Train Accuracy:  0.9992645513763395\n",
      "Test Accuracy:  0.9873949579831933\n",
      "Confusion matrix:  [[1468   10]\n",
      " [  20  882]]\n"
     ]
    }
   ],
   "source": [
    "print(\"Linear SVM, Binary Count Vectors: \")\n",
    "accuracy = train_model(svm.LinearSVC(), binary_xtrain_count, train_y, binary_xtest_count)\n",
    "\n",
    "# SVM on Count Vectors\n",
    "print(\"Linear SVM, Count Vectors: \")\n",
    "accuracy = train_model(svm.LinearSVC(), xtrain_count, train_y, xtest_count)\n",
    "\n",
    "# SVM on Word Level TF IDF Vectors\n",
    "print(\"Linear SVM, WordLevel TF-IDF: \")\n",
    "accuracy = train_model(svm.LinearSVC(), xtrain_tfidf, train_y, xtest_tfidf)\n",
    "\n",
    "# SVM on Ngram Level TF IDF Vectors\n",
    "print(\"Linear SVM, N-Gram Vectors: \")\n",
    "accuracy = train_model(svm.LinearSVC(), xtrain_tfidf_ngram, train_y, xtest_tfidf_ngram)\n",
    "\n",
    "# SVM on Character Level TF IDF Vectors\n",
    "print(\"Linear SVM, CharLevel Vectors: \")\n",
    "accuracy = train_model(svm.LinearSVC(), xtrain_tfidf_ngram_chars, train_y, xtest_tfidf_ngram_chars)"
   ]
  },
  {
   "cell_type": "code",
   "execution_count": 19,
   "metadata": {},
   "outputs": [
    {
     "output_type": "stream",
     "name": "stdout",
     "text": [
      "RF, Binary Count Vectors: \n",
      "Train Accuracy:  1.0\n",
      "Test Accuracy:  0.9487394957983193\n",
      "Confusion matrix:  [[1458   20]\n",
      " [ 102  800]]\n",
      "RF, Count Vectors: \n",
      "Train Accuracy:  1.0\n",
      "Test Accuracy:  0.9516806722689075\n",
      "Confusion matrix:  [[1465   13]\n",
      " [ 102  800]]\n",
      "RF, WordLevel TF-IDF: \n",
      "Train Accuracy:  0.9988442950199622\n",
      "Test Accuracy:  0.954201680672269\n",
      "Confusion matrix:  [[1448   30]\n",
      " [  79  823]]\n",
      "RF, N-Gram Vectors: \n",
      "Train Accuracy:  0.957974364362261\n",
      "Test Accuracy:  0.8995798319327731\n",
      "Confusion matrix:  [[1422   56]\n",
      " [ 183  719]]\n",
      "RF, CharLevel Vectors: \n",
      "Train Accuracy:  0.9998949359109056\n",
      "Test Accuracy:  0.984873949579832\n",
      "Confusion matrix:  [[1463   15]\n",
      " [  21  881]]\n"
     ]
    }
   ],
   "source": [
    "print(\"RF, Binary Count Vectors: \")\n",
    "accuracy = train_model(ensemble.RandomForestClassifier(n_estimators=100), binary_xtrain_count, train_y, binary_xtest_count)\n",
    "\n",
    "# RF on Count Vectors\n",
    "print(\"RF, Count Vectors: \")\n",
    "accuracy = train_model(ensemble.RandomForestClassifier(n_estimators=100), xtrain_count, train_y, xtest_count)\n",
    "\n",
    "# RF on Word Level TF IDF Vectors\n",
    "print(\"RF, WordLevel TF-IDF: \")\n",
    "accuracy = train_model(ensemble.RandomForestClassifier(n_estimators=100), xtrain_tfidf, train_y, xtest_tfidf)\n",
    "\n",
    "# RF on Ngram Level TF IDF Vectors\n",
    "print(\"RF, N-Gram Vectors: \")\n",
    "accuracy = train_model(ensemble.RandomForestClassifier(n_estimators=100), xtrain_tfidf_ngram, train_y, xtest_tfidf_ngram)\n",
    "\n",
    "# RF on Character Level TF IDF Vectors\n",
    "print(\"RF, CharLevel Vectors: \")\n",
    "accuracy = train_model(ensemble.RandomForestClassifier(n_estimators=100), xtrain_tfidf_ngram_chars, train_y, xtest_tfidf_ngram_chars)"
   ]
  },
  {
   "cell_type": "code",
   "execution_count": 20,
   "metadata": {},
   "outputs": [
    {
     "output_type": "stream",
     "name": "stdout",
     "text": [
      "RF, Binary Count Vectors: \n",
      "Train Accuracy:  0.9373818028997689\n",
      "Test Accuracy:  0.9331932773109244\n",
      "Confusion matrix:  [[1338  140]\n",
      " [  19  883]]\n",
      "RF, Count Vectors: \n",
      "Train Accuracy:  0.9374868669888632\n",
      "Test Accuracy:  0.934453781512605\n",
      "Confusion matrix:  [[1341  137]\n",
      " [  19  883]]\n",
      "RF, WordLevel TF-IDF: \n",
      "Train Accuracy:  0.9388527001470898\n",
      "Test Accuracy:  0.9327731092436975\n",
      "Confusion matrix:  [[1336  142]\n",
      " [  18  884]]\n",
      "RF, N-Gram Vectors: \n",
      "Train Accuracy:  0.8712964908594243\n",
      "Test Accuracy:  0.8676470588235294\n",
      "Confusion matrix:  [[1465   13]\n",
      " [ 302  600]]\n",
      "RF, CharLevel Vectors: \n",
      "Train Accuracy:  0.987287245219584\n",
      "Test Accuracy:  0.9869747899159664\n",
      "Confusion matrix:  [[1475    3]\n",
      " [  28  874]]\n"
     ]
    }
   ],
   "source": [
    "print(\"RF, Binary Count Vectors: \")\n",
    "accuracy = train_model(ensemble.GradientBoostingClassifier(n_estimators=100), binary_xtrain_count, train_y, binary_xtest_count)\n",
    "\n",
    "# RF on Count Vectors\n",
    "print(\"RF, Count Vectors: \")\n",
    "accuracy = train_model(ensemble.GradientBoostingClassifier(n_estimators=100), xtrain_count, train_y, xtest_count)\n",
    "\n",
    "# RF on Word Level TF IDF Vectors\n",
    "print(\"RF, WordLevel TF-IDF: \")\n",
    "accuracy = train_model(ensemble.GradientBoostingClassifier(n_estimators=100), xtrain_tfidf, train_y, xtest_tfidf)\n",
    "\n",
    "# RF on Ngram Level TF IDF Vectors\n",
    "print(\"RF, N-Gram Vectors: \")\n",
    "accuracy = train_model(ensemble.GradientBoostingClassifier(n_estimators=100), xtrain_tfidf_ngram, train_y, xtest_tfidf_ngram)\n",
    "\n",
    "# RF on Character Level TF IDF Vectors\n",
    "print(\"RF, CharLevel Vectors: \")\n",
    "accuracy = train_model(ensemble.GradientBoostingClassifier(n_estimators=100), xtrain_tfidf_ngram_chars, train_y, xtest_tfidf_ngram_chars)"
   ]
  },
  {
   "cell_type": "code",
   "execution_count": null,
   "metadata": {},
   "outputs": [],
   "source": []
  }
 ]
}